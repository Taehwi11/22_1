{
  "nbformat": 4,
  "nbformat_minor": 0,
  "metadata": {
    "colab": {
      "name": "Untitled0.ipynb",
      "provenance": [],
      "authorship_tag": "ABX9TyNFxsO5VmI4GZJD/NAnJFWi",
      "include_colab_link": true
    },
    "kernelspec": {
      "name": "python3",
      "display_name": "Python 3"
    },
    "language_info": {
      "name": "python"
    }
  },
  "cells": [
    {
      "cell_type": "markdown",
      "metadata": {
        "id": "view-in-github",
        "colab_type": "text"
      },
      "source": [
        "<a href=\"https://colab.research.google.com/github/Taehwi11/Q1_2022/blob/python/test1.ipynb\" target=\"_parent\"><img src=\"https://colab.research.google.com/assets/colab-badge.svg\" alt=\"Open In Colab\"/></a>"
      ]
    },
    {
      "cell_type": "code",
      "execution_count": 31,
      "metadata": {
        "id": "wx-0gtdCWshc"
      },
      "outputs": [],
      "source": [
        "from sklearn.datasets import load_iris\n",
        "import pandas as pd\n",
        "from sklearn.preprocessing import MinMaxScaler\n",
        "from sklearn.model_selection import StratifiedShuffleSplit\n",
        "\n",
        "IRIS_Dataset=load_iris()\n",
        "X_DataFrame=pd.DataFrame(data=IRIS_Dataset.data,columns=IRIS_Dataset.feature_names)\n",
        "Y_DataFrame=pd.DataFrame(data=IRIS_Dataset.target,columns=['Species'])\n",
        "IRIS_DataFrame=pd.concat([X_DataFrame,Y_DataFrame],axis=1)\n",
        "IRIS_DataFrame.head()\n",
        "\n",
        "Split=StratifiedShuffleSplit(n_splits=1,test_size=0.2,random_state=0)\n",
        "for Train_index, Test_index in Split.split(IRIS_DataFrame, IRIS_DataFrame['Species']):\n",
        "  Train_IRIS=IRIS_DataFrame.loc[Train_index]\n",
        "  Test_IRIS=IRIS_DataFrame.loc[Test_index]\n",
        "  Train_IRIS_X,Train_IRIS_Y=Train_IRIS.iloc[:,:4],Train_IRIS['Species']\n",
        "  Test_IRIS_X,Test_IRIS_Y=Test_IRIS.iloc[:,:4],Test_IRIS['Species']\n",
        "\n",
        "\n",
        "\n"
      ]
    },
    {
      "cell_type": "code",
      "source": [
        "from sklearn.pipeline import Pipeline\n",
        "from sklearn.neighbors import KNeighborsClassifier\n",
        "from sklearn.metrics import confusion_matrix\n",
        "from sklearn.preprocessing import MinMaxScaler\n",
        "import pandas as pd\n",
        "\n",
        "\n",
        "\n",
        "\n",
        "Scaler_IRIS=MinMaxScaler()\n",
        "KNN_CLF=KNeighborsClassifier(n_neighbors=3,metric='minkowski',p=2,weights='uniform')\n",
        "Full_pipeline_KNN=Pipeline(steps=[('scaler',Scaler_IRIS),('Classifier',KNN_CLF)])\n",
        "Full_pipeline_KNN.fit(Train_IRIS_X,Train_IRIS_Y)\n",
        "Test_IRIS_Pred=Full_pipeline_KNN.predict(Test_IRIS_X)\n",
        "pd.DataFrame(confusion_matrix(Test_IRIS_Y,Test_IRIS_Pred))\n",
        "print(\"Accuracy=\",Full_pipeline_KNN.score(Test_IRIS_X,Test_IRIS_Y))\n"
      ],
      "metadata": {
        "colab": {
          "base_uri": "https://localhost:8080/"
        },
        "id": "o0HtARo3cu7E",
        "outputId": "87ea1963-a8de-491d-c602-9b3bdd287840"
      },
      "execution_count": 33,
      "outputs": [
        {
          "output_type": "stream",
          "name": "stdout",
          "text": [
            "Accuracy= 0.9666666666666667\n"
          ]
        }
      ]
    }
  ]
}