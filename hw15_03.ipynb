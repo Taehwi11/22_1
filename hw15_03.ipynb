{
  "nbformat": 4,
  "nbformat_minor": 0,
  "metadata": {
    "colab": {
      "name": "Untitled8.ipynb",
      "provenance": [],
      "authorship_tag": "ABX9TyMe0zhXw8DMFRRIX8Rwg66s",
      "include_colab_link": true
    },
    "kernelspec": {
      "name": "python3",
      "display_name": "Python 3"
    },
    "language_info": {
      "name": "python"
    }
  },
  "cells": [
    {
      "cell_type": "markdown",
      "metadata": {
        "id": "view-in-github",
        "colab_type": "text"
      },
      "source": [
        "<a href=\"https://colab.research.google.com/github/Taehwi11/Q1_2022/blob/python/hw15_03.ipynb\" target=\"_parent\"><img src=\"https://colab.research.google.com/assets/colab-badge.svg\" alt=\"Open In Colab\"/></a>"
      ]
    },
    {
      "cell_type": "code",
      "execution_count": 1,
      "metadata": {
        "colab": {
          "base_uri": "https://localhost:8080/"
        },
        "id": "PzNb9T2Q0K1_",
        "outputId": "35a1f250-eb61-411d-b866-af161ed1f5a3"
      },
      "outputs": [
        {
          "output_type": "stream",
          "name": "stdout",
          "text": [
            "Downloading data from https://storage.googleapis.com/tensorflow/tf-keras-datasets/mnist.npz\n",
            "11493376/11490434 [==============================] - 0s 0us/step\n",
            "11501568/11490434 [==============================] - 0s 0us/step\n"
          ]
        }
      ],
      "source": [
        "from tensorflow.keras.datasets import mnist\n",
        "from tensorflow.keras.utils import to_categorical\n",
        "(train_images, train_labels), (test_images, test_labels) = mnist.load_data()\n",
        "train_images = train_images.reshape((60000, 28, 28, 1))\n",
        "train_images = train_images.astype('float32') / 255\n",
        "test_images = test_images.astype('float32') / 255\n",
        "train_labels = to_categorical(train_labels)\n",
        "test_labels = to_categorical(test_labels)"
      ]
    },
    {
      "cell_type": "code",
      "source": [
        "from keras import models\n",
        "from keras import layers\n",
        "model = models.Sequential()\n",
        "model.add(layers.Conv2D(32, (5, 5), activation='relu', input_shape=(28, 28, 1)))\n",
        "model.add(layers.MaxPooling2D((2, 2)))\n",
        "model.add(layers.Conv2D(64, (5, 5), activation='relu'))\n",
        "model.add(layers.MaxPooling2D((2, 2)))\n",
        "model.add(layers.Flatten())\n",
        "model.add(layers.Dense(64, activation='relu'))\n",
        "model.add(layers.Dense(10, activation='softmax'))\n",
        "model.summary()\n"
      ],
      "metadata": {
        "colab": {
          "base_uri": "https://localhost:8080/"
        },
        "id": "-JfJdKU51kaD",
        "outputId": "d72fdee4-8a87-4c9d-f077-f9d0049d801c"
      },
      "execution_count": 2,
      "outputs": [
        {
          "output_type": "stream",
          "name": "stdout",
          "text": [
            "Model: \"sequential\"\n",
            "_________________________________________________________________\n",
            " Layer (type)                Output Shape              Param #   \n",
            "=================================================================\n",
            " conv2d (Conv2D)             (None, 24, 24, 32)        832       \n",
            "                                                                 \n",
            " max_pooling2d (MaxPooling2D  (None, 12, 12, 32)       0         \n",
            " )                                                               \n",
            "                                                                 \n",
            " conv2d_1 (Conv2D)           (None, 8, 8, 64)          51264     \n",
            "                                                                 \n",
            " max_pooling2d_1 (MaxPooling  (None, 4, 4, 64)         0         \n",
            " 2D)                                                             \n",
            "                                                                 \n",
            " flatten (Flatten)           (None, 1024)              0         \n",
            "                                                                 \n",
            " dense (Dense)               (None, 64)                65600     \n",
            "                                                                 \n",
            " dense_1 (Dense)             (None, 10)                650       \n",
            "                                                                 \n",
            "=================================================================\n",
            "Total params: 118,346\n",
            "Trainable params: 118,346\n",
            "Non-trainable params: 0\n",
            "_________________________________________________________________\n"
          ]
        }
      ]
    },
    {
      "cell_type": "code",
      "source": [
        "model.compile(optimizer='rmsprop', loss='categorical_crossentropy', metrics=['accuracy'])\n",
        "model.fit(train_images, train_labels, epochs=2, batch_size=64)\n",
        "\n",
        "test_loss, test_acc = model.evaluate(test_images, test_labels)\n",
        "print('test_acc: ', test_acc)\n",
        "#epochs가 줄면 정확도가 떨어진다 "
      ],
      "metadata": {
        "colab": {
          "base_uri": "https://localhost:8080/"
        },
        "id": "K6A_n_PjtqGS",
        "outputId": "00432484-fefe-4818-c29a-a43e921cca34"
      },
      "execution_count": 3,
      "outputs": [
        {
          "output_type": "stream",
          "name": "stdout",
          "text": [
            "Epoch 1/2\n",
            "938/938 [==============================] - 69s 73ms/step - loss: 0.1523 - accuracy: 0.9523\n",
            "Epoch 2/2\n",
            "938/938 [==============================] - 66s 71ms/step - loss: 0.0417 - accuracy: 0.9872\n",
            "313/313 [==============================] - 4s 11ms/step - loss: 0.0308 - accuracy: 0.9901\n",
            "test_acc:  0.9901000261306763\n"
          ]
        }
      ]
    },
    {
      "cell_type": "code",
      "source": [
        "model.compile(optimizer='rmsprop', loss='categorical_crossentropy', metrics=['accuracy'])\n",
        "model.fit(train_images, train_labels, epochs=10, batch_size=64)\n",
        "\n",
        "test_loss, test_acc = model.evaluate(test_images, test_labels)\n",
        "print('test_acc: ', test_acc)\n",
        "#epochs가 두배가 되어도 정확도는 엄청나게 차이나진 않는다 "
      ],
      "metadata": {
        "colab": {
          "base_uri": "https://localhost:8080/"
        },
        "id": "UbRY5AON4u6l",
        "outputId": "45dc7c70-d62f-45ab-b31f-e9dce812565d"
      },
      "execution_count": 10,
      "outputs": [
        {
          "output_type": "stream",
          "name": "stdout",
          "text": [
            "Epoch 1/10\n",
            "938/938 [==============================] - 69s 72ms/step - loss: 0.1479 - accuracy: 0.9542\n",
            "Epoch 2/10\n",
            "938/938 [==============================] - 64s 69ms/step - loss: 0.0431 - accuracy: 0.9869\n",
            "Epoch 3/10\n",
            "938/938 [==============================] - 62s 67ms/step - loss: 0.0296 - accuracy: 0.9907\n",
            "Epoch 4/10\n",
            "938/938 [==============================] - 62s 66ms/step - loss: 0.0223 - accuracy: 0.9931\n",
            "Epoch 5/10\n",
            "938/938 [==============================] - 62s 66ms/step - loss: 0.0173 - accuracy: 0.9949\n",
            "Epoch 6/10\n",
            "938/938 [==============================] - 62s 66ms/step - loss: 0.0140 - accuracy: 0.9954\n",
            "Epoch 7/10\n",
            "938/938 [==============================] - 62s 67ms/step - loss: 0.0116 - accuracy: 0.9966\n",
            "Epoch 8/10\n",
            "938/938 [==============================] - 61s 65ms/step - loss: 0.0094 - accuracy: 0.9973\n",
            "Epoch 9/10\n",
            "938/938 [==============================] - 61s 65ms/step - loss: 0.0080 - accuracy: 0.9976\n",
            "Epoch 10/10\n",
            "938/938 [==============================] - 61s 65ms/step - loss: 0.0072 - accuracy: 0.9980\n",
            "313/313 [==============================] - 3s 9ms/step - loss: 0.0376 - accuracy: 0.9924\n",
            "test_acc:  0.9923999905586243\n"
          ]
        }
      ]
    },
    {
      "cell_type": "code",
      "source": [
        "model.compile(optimizer='rmsprop', loss='categorical_crossentropy', metrics=['accuracy'])\n",
        "model.fit(train_images, train_labels, epochs=5, batch_size=64)\n",
        "\n",
        "test_loss, test_acc = model.evaluate(test_images, test_labels)\n",
        "print('test_acc: ', test_acc)\n"
      ],
      "metadata": {
        "colab": {
          "base_uri": "https://localhost:8080/"
        },
        "id": "j92yLTDJ121D",
        "outputId": "51150311-768f-42ff-e2c2-01180fe3241e"
      },
      "execution_count": 5,
      "outputs": [
        {
          "output_type": "stream",
          "name": "stdout",
          "text": [
            "Epoch 1/5\n",
            "938/938 [==============================] - 64s 67ms/step - loss: 0.1463 - accuracy: 0.9551\n",
            "Epoch 2/5\n",
            "938/938 [==============================] - 60s 64ms/step - loss: 0.0409 - accuracy: 0.9872\n",
            "Epoch 3/5\n",
            "938/938 [==============================] - 61s 65ms/step - loss: 0.0289 - accuracy: 0.9909\n",
            "Epoch 4/5\n",
            "938/938 [==============================] - 60s 64ms/step - loss: 0.0213 - accuracy: 0.9936\n",
            "Epoch 5/5\n",
            "938/938 [==============================] - 61s 65ms/step - loss: 0.0176 - accuracy: 0.9947\n",
            "313/313 [==============================] - 3s 10ms/step - loss: 0.0219 - accuracy: 0.9930\n",
            "test_acc:  0.9929999709129333\n"
          ]
        }
      ]
    }
  ]
}