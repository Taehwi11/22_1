{
  "nbformat": 4,
  "nbformat_minor": 0,
  "metadata": {
    "colab": {
      "name": "Untitled4.ipynb",
      "provenance": [],
      "collapsed_sections": [],
      "authorship_tag": "ABX9TyNm4HWQPCyH77ZxBEr71oQs",
      "include_colab_link": true
    },
    "kernelspec": {
      "name": "python3",
      "display_name": "Python 3"
    },
    "language_info": {
      "name": "python"
    }
  },
  "cells": [
    {
      "cell_type": "markdown",
      "metadata": {
        "id": "view-in-github",
        "colab_type": "text"
      },
      "source": [
        "<a href=\"https://colab.research.google.com/github/Taehwi11/Q1_2022/blob/python/12_3_Multiple_regression.ipynb\" target=\"_parent\"><img src=\"https://colab.research.google.com/assets/colab-badge.svg\" alt=\"Open In Colab\"/></a>"
      ]
    },
    {
      "cell_type": "code",
      "execution_count": 18,
      "metadata": {
        "id": "ifSY5vFKiDUC"
      },
      "outputs": [],
      "source": [
        "import pandas as pd\n",
        "mr_data=pd.read_csv(\"Multiple_regression.csv\")"
      ]
    },
    {
      "cell_type": "code",
      "source": [
        "from sklearn.preprocessing import MinMaxScaler\n",
        "mr_data_x=mr_data.iloc[:,:2]\n",
        "mr_data_y=mr_data.iloc[:,2]\n",
        "scaler=MinMaxScaler().fit(mr_data_x)\n",
        "mr_data_x=scaler.transform(mr_data_x)"
      ],
      "metadata": {
        "id": "LfhqGIerl-hf"
      },
      "execution_count": 19,
      "outputs": []
    },
    {
      "cell_type": "code",
      "source": [
        "from sklearn.linear_model import LinearRegression\n",
        "mr_lm=LinearRegression()\n",
        "mr_lm.fit(mr_data_x,mr_data_y)\n"
      ],
      "metadata": {
        "colab": {
          "base_uri": "https://localhost:8080/"
        },
        "id": "jCT8gp6kmyvL",
        "outputId": "92c7485b-3083-4589-eb17-f304426d9cae"
      },
      "execution_count": 20,
      "outputs": [
        {
          "output_type": "execute_result",
          "data": {
            "text/plain": [
              "LinearRegression()"
            ]
          },
          "metadata": {},
          "execution_count": 20
        }
      ]
    },
    {
      "cell_type": "code",
      "source": [
        "mr_lm.predict(mr_data_x)\n",
        "mr_lm.score(mr_data_x,mr_data_y)\n",
        "print('회귀 계수=',mr_lm.coef_)\n",
        "print('절편=',mr_lm.intercept_)"
      ],
      "metadata": {
        "colab": {
          "base_uri": "https://localhost:8080/"
        },
        "id": "WZ8v0lY3nG5y",
        "outputId": "8de79461-a608-435e-ae98-22407eab1e32"
      },
      "execution_count": 22,
      "outputs": [
        {
          "output_type": "stream",
          "name": "stdout",
          "text": [
            "회귀 계수= [11.43696733 28.75710227]\n",
            "절편= 61.53870738636364\n"
          ]
        }
      ]
    }
  ]
}